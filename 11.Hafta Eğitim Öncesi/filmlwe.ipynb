{
 "cells": [
  {
   "cell_type": "code",
   "execution_count": 6,
   "metadata": {},
   "outputs": [
    {
     "name": "stdout",
     "output_type": "stream",
     "text": [
      "Select an operation: \n",
      "1. Add movie\n",
      "2. Remove movie\n",
      "3. List movies\n",
      "0. Exit\n",
      "Enter movie details: \n",
      "Select an operation: \n",
      "1. Add movie\n",
      "2. Remove movie\n",
      "3. List movies\n",
      "0. Exit\n",
      "1 (2011) - 1 - Directed by 1 - Rating: 11\n",
      "Select an operation: \n",
      "1. Add movie\n",
      "2. Remove movie\n",
      "3. List movies\n",
      "0. Exit\n"
     ]
    }
   ],
   "source": [
    "class Movie:\n",
    "    def __init__(self, name, director, genre, year, rating):\n",
    "        self.name = name\n",
    "        self.director = director\n",
    "        self.genre = genre\n",
    "        self.year = year\n",
    "        self.rating = rating\n",
    "\n",
    "movies = []\n",
    "\n",
    "def add_movie():\n",
    "    print(\"Enter movie details: \")\n",
    "    name = input(\"Name: \")\n",
    "    director = input(\"Director: \")\n",
    "    genre = input(\"Genre: \")\n",
    "    year = input(\"Year: \")\n",
    "    rating = input(\"Rating: \")\n",
    "\n",
    "    movie = Movie(name, director, genre, year, rating)\n",
    "    movies.append(movie)\n",
    "\n",
    "def remove_movie():\n",
    "    name = input(\"Enter movie name to remove: \")\n",
    "    for movie in movies:\n",
    "        if movie.name == name:\n",
    "            movies.remove(movie)\n",
    "            print(f\"{name} has been removed.\")\n",
    "            break\n",
    "    else:\n",
    "        print(f\"{name} not found.\")\n",
    "\n",
    "def list_movies():\n",
    "    for movie in movies:\n",
    "        print(f\"{movie.name} ({movie.year}) - {movie.genre} - Directed by {movie.director} - Rating: {movie.rating}\")\n",
    "\n",
    "while True:\n",
    "    print(\"Select an operation: \")\n",
    "    print(\"1. Add movie\")\n",
    "    print(\"2. Remove movie\")\n",
    "    print(\"3. List movies\")\n",
    "    print(\"0. Exit\")\n",
    "\n",
    "    choice = input(\"Enter your choice: \")\n",
    "\n",
    "    if choice == \"1\":\n",
    "        add_movie()\n",
    "    elif choice == \"2\":\n",
    "        remove_movie()\n",
    "    elif choice == \"3\":\n",
    "        list_movies()\n",
    "    elif choice == \"0\":\n",
    "        break\n",
    "    else:\n",
    "        print(\"Invalid choice. Try again.\")\n",
    "##güncelle"
   ]
  }
 ],
 "metadata": {
  "kernelspec": {
   "display_name": "Python 3",
   "language": "python",
   "name": "python3"
  },
  "language_info": {
   "codemirror_mode": {
    "name": "ipython",
    "version": 3
   },
   "file_extension": ".py",
   "mimetype": "text/x-python",
   "name": "python",
   "nbconvert_exporter": "python",
   "pygments_lexer": "ipython3",
   "version": "3.11.1"
  },
  "orig_nbformat": 4
 },
 "nbformat": 4,
 "nbformat_minor": 2
}
