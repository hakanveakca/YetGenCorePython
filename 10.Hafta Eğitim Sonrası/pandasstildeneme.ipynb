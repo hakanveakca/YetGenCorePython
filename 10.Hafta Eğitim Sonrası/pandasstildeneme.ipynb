{
 "cells": [
  {
   "cell_type": "code",
   "execution_count": 14,
   "metadata": {},
   "outputs": [
    {
     "data": {
      "text/html": [
       "<style type=\"text/css\">\n",
       "#T_eeec8_row0_col0 {\n",
       "  background-color: red;\n",
       "}\n",
       "#T_eeec8_row0_col1, #T_eeec8_row1_col1, #T_eeec8_row2_col1, #T_eeec8_row3_col0, #T_eeec8_row3_col1 {\n",
       "  background-color: white;\n",
       "}\n",
       "#T_eeec8_row1_col0 {\n",
       "  background-color: blue;\n",
       "}\n",
       "#T_eeec8_row2_col0 {\n",
       "  background-color: yellow;\n",
       "}\n",
       "</style>\n",
       "<table id=\"T_eeec8\">\n",
       "  <thead>\n",
       "    <tr>\n",
       "      <th class=\"blank level0\" >&nbsp;</th>\n",
       "      <th id=\"T_eeec8_level0_col0\" class=\"col_heading level0 col0\" >A</th>\n",
       "      <th id=\"T_eeec8_level0_col1\" class=\"col_heading level0 col1\" >B</th>\n",
       "    </tr>\n",
       "  </thead>\n",
       "  <tbody>\n",
       "    <tr>\n",
       "      <th id=\"T_eeec8_level0_row0\" class=\"row_heading level0 row0\" >0</th>\n",
       "      <td id=\"T_eeec8_row0_col0\" class=\"data row0 col0\" >1</td>\n",
       "      <td id=\"T_eeec8_row0_col1\" class=\"data row0 col1\" >5</td>\n",
       "    </tr>\n",
       "    <tr>\n",
       "      <th id=\"T_eeec8_level0_row1\" class=\"row_heading level0 row1\" >1</th>\n",
       "      <td id=\"T_eeec8_row1_col0\" class=\"data row1 col0\" >2</td>\n",
       "      <td id=\"T_eeec8_row1_col1\" class=\"data row1 col1\" >6</td>\n",
       "    </tr>\n",
       "    <tr>\n",
       "      <th id=\"T_eeec8_level0_row2\" class=\"row_heading level0 row2\" >2</th>\n",
       "      <td id=\"T_eeec8_row2_col0\" class=\"data row2 col0\" >3</td>\n",
       "      <td id=\"T_eeec8_row2_col1\" class=\"data row2 col1\" >7</td>\n",
       "    </tr>\n",
       "    <tr>\n",
       "      <th id=\"T_eeec8_level0_row3\" class=\"row_heading level0 row3\" >3</th>\n",
       "      <td id=\"T_eeec8_row3_col0\" class=\"data row3 col0\" >4</td>\n",
       "      <td id=\"T_eeec8_row3_col1\" class=\"data row3 col1\" >8</td>\n",
       "    </tr>\n",
       "  </tbody>\n",
       "</table>\n"
      ],
      "text/plain": [
       "<pandas.io.formats.style.Styler at 0x134229c73d0>"
      ]
     },
     "execution_count": 14,
     "metadata": {},
     "output_type": "execute_result"
    }
   ],
   "source": [
    "import pandas as pd\n",
    "\n",
    "# Örnek bir DataFrame oluşturun\n",
    "df = pd.DataFrame({'A': [1, 2, 3, 4], 'B': [5, 6, 7, 8]})\n",
    "\n",
    "# Stil seçeneklerini tanımlayın\n",
    "def highlight(value):\n",
    "    if value == 1:\n",
    "        return 'background-color: red'\n",
    "    elif value == 2:\n",
    "        return 'background-color: blue'\n",
    "    elif value == 3:\n",
    "        return 'background-color: yellow'\n",
    "    else:\n",
    "        return 'background-color: white'\n",
    "\n",
    "# DataFrame'i renklendirin\n",
    "styled_df = df.style.applymap(highlight)\n",
    "\n",
    "# Stil DataFrame'i HTML olarak görüntüleyin\n",
    "styled_df\n",
    "\n"
   ]
  },
  {
   "cell_type": "code",
   "execution_count": 5,
   "metadata": {},
   "outputs": [
    {
     "name": "stdout",
     "output_type": "stream",
     "text": [
      "Collecting Jinja2\n",
      "  Downloading Jinja2-3.1.2-py3-none-any.whl (133 kB)\n",
      "                                              0.0/133.1 kB ? eta -:--:--\n",
      "     ---------                               30.7/133.1 kB 1.3 MB/s eta 0:00:01\n",
      "     -----------------                     61.4/133.1 kB 656.4 kB/s eta 0:00:01\n",
      "     --------------------------------       112.6/133.1 kB 1.1 MB/s eta 0:00:01\n",
      "     ------------------------------------ 133.1/133.1 kB 982.9 kB/s eta 0:00:00\n",
      "Collecting MarkupSafe>=2.0 (from Jinja2)\n",
      "  Downloading MarkupSafe-2.1.2-cp311-cp311-win_amd64.whl (16 kB)\n",
      "Installing collected packages: MarkupSafe, Jinja2\n",
      "Successfully installed Jinja2-3.1.2 MarkupSafe-2.1.2\n",
      "Note: you may need to restart the kernel to use updated packages.\n"
     ]
    },
    {
     "name": "stderr",
     "output_type": "stream",
     "text": [
      "\n",
      "[notice] A new release of pip is available: 23.1.1 -> 23.1.2\n",
      "[notice] To update, run: python.exe -m pip install --upgrade pip\n"
     ]
    }
   ],
   "source": [
    "\n"
   ]
  }
 ],
 "metadata": {
  "kernelspec": {
   "display_name": "Python 3",
   "language": "python",
   "name": "python3"
  },
  "language_info": {
   "codemirror_mode": {
    "name": "ipython",
    "version": 3
   },
   "file_extension": ".py",
   "mimetype": "text/x-python",
   "name": "python",
   "nbconvert_exporter": "python",
   "pygments_lexer": "ipython3",
   "version": "3.11.1"
  },
  "orig_nbformat": 4
 },
 "nbformat": 4,
 "nbformat_minor": 2
}
