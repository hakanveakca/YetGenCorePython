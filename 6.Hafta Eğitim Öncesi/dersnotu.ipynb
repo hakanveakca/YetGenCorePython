{
 "cells": [
  {
   "attachments": {},
   "cell_type": "markdown",
   "metadata": {},
   "source": [
    "## MATH MODÜLÜ \n",
    "import math\n",
    "dir(math) = fonksiyonun içinde olan imkanları gösterir\n",
    "help(math) = açıklar\n"
   ]
  },
  {
   "cell_type": "code",
   "execution_count": 2,
   "metadata": {},
   "outputs": [
    {
     "data": {
      "text/plain": [
       "2.718281828459045"
      ]
     },
     "execution_count": 2,
     "metadata": {},
     "output_type": "execute_result"
    }
   ],
   "source": [
    "import math\n",
    "math.factorial(5)\n",
    "math.e\n",
    "math.floor(3.5) #aşşağı yuvarlar\n",
    "math.ceil(3.2)# yukarı yuvarlar\n",
    "\n",
    "\n"
   ]
  },
  {
   "cell_type": "code",
   "execution_count": 3,
   "metadata": {},
   "outputs": [
    {
     "name": "stdout",
     "output_type": "stream",
     "text": [
      "kendi faktoriyel fonksiyonum\n"
     ]
    },
    {
     "data": {
      "text/plain": [
       "120"
      ]
     },
     "execution_count": 3,
     "metadata": {},
     "output_type": "execute_result"
    }
   ],
   "source": [
    "from math import * \n",
    "def factorial(sayi):\n",
    "    print(\"kendi faktoriyel fonksiyonum\")\n",
    "    faktoriyel = 1\n",
    "    if (sayi== 0 or sayi ==1):\n",
    "        return 1\n",
    "    while(sayi>=1):\n",
    "        faktoriyel *= sayi\n",
    "        sayi-=1\n",
    "    return faktoriyel\n",
    "\n",
    "factorial(5)"
   ]
  },
  {
   "attachments": {},
   "cell_type": "markdown",
   "metadata": {},
   "source": [
    "map fonksiyonu \n",
    "map(fonksiyon,iterasyonyapılacakveritipi(liste,demet vb)"
   ]
  },
  {
   "cell_type": "code",
   "execution_count": 4,
   "metadata": {},
   "outputs": [
    {
     "name": "stdout",
     "output_type": "stream",
     "text": [
      "[4, 64, 256, 1024, 4096]\n"
     ]
    }
   ],
   "source": [
    "numbers = [2,8,16,32,64]\n",
    "powers=[]\n",
    "def power(x):\n",
    "    return x**2\n",
    "powers=list(map(power,numbers))\n",
    "print(powers)"
   ]
  },
  {
   "cell_type": "code",
   "execution_count": 6,
   "metadata": {},
   "outputs": [
    {
     "data": {
      "text/plain": [
       "[405, 600, 847, 1152]"
      ]
     },
     "execution_count": 6,
     "metadata": {},
     "output_type": "execute_result"
    }
   ],
   "source": [
    "liste1=[1,2,3,4]\n",
    "liste2=[5,6,7,8]\n",
    "liste3=[9,10,11,12]\n",
    "list(map(lambda x,y,z:z*y*z,liste1,liste2,liste3))"
   ]
  },
  {
   "cell_type": "code",
   "execution_count": 7,
   "metadata": {},
   "outputs": [
    {
     "data": {
      "text/plain": [
       "[0, 2, 4, 6, 8]"
      ]
     },
     "execution_count": 7,
     "metadata": {},
     "output_type": "execute_result"
    }
   ],
   "source": [
    "list(filter(lambda x: x%2==0,[0,1,2,3,4,5,6,7,8,9]))"
   ]
  },
  {
   "cell_type": "code",
   "execution_count": 8,
   "metadata": {},
   "outputs": [
    {
     "data": {
      "text/plain": [
       "[2,\n",
       " 3,\n",
       " 5,\n",
       " 7,\n",
       " 11,\n",
       " 13,\n",
       " 17,\n",
       " 19,\n",
       " 23,\n",
       " 29,\n",
       " 31,\n",
       " 37,\n",
       " 41,\n",
       " 43,\n",
       " 47,\n",
       " 53,\n",
       " 59,\n",
       " 61,\n",
       " 67,\n",
       " 71,\n",
       " 73,\n",
       " 79,\n",
       " 83,\n",
       " 89,\n",
       " 97]"
      ]
     },
     "execution_count": 8,
     "metadata": {},
     "output_type": "execute_result"
    }
   ],
   "source": [
    "def asal_mi(sayi):\n",
    "    i=2\n",
    "    if(sayi==1):\n",
    "\n",
    "     return False\n",
    "    if(sayi==2):\n",
    "       return True\n",
    "    else:\n",
    "       while i < sayi:\n",
    "          if(sayi % i ==0):\n",
    "             return False\n",
    "          i +=1\n",
    "    return True\n",
    "        \n",
    "list(filter(asal_mi,range(1,100)))"
   ]
  },
  {
   "cell_type": "code",
   "execution_count": 9,
   "metadata": {},
   "outputs": [
    {
     "data": {
      "text/plain": [
       "[(1, 5, 'python'), (2, 6, 'java'), (3, 7, 'C#'), (4, 8, 'javascript')]"
      ]
     },
     "execution_count": 9,
     "metadata": {},
     "output_type": "execute_result"
    }
   ],
   "source": [
    "liste1 = [1,2,3,4]\n",
    "liste2 = [5,6,7,8]\n",
    "liste3 = [\"python\",\"java\",\"C#\",\"javascript\"]\n",
    "list(zip(liste1,liste2,liste3))\n"
   ]
  },
  {
   "cell_type": "code",
   "execution_count": 10,
   "metadata": {},
   "outputs": [
    {
     "data": {
      "text/plain": [
       "[('elma', 'sıfır'), ('armut', 'Bir'), ('kiraz', 'İki')]"
      ]
     },
     "execution_count": 10,
     "metadata": {},
     "output_type": "execute_result"
    }
   ],
   "source": [
    "sozluk1 = {\"elma\":1,\"armut\":2,\"kiraz\":3}\n",
    "sozluk2 ={\"sıfır\":0,\"Bir\":1,\"İki\":2}\n",
    "list(zip(sozluk1,sozluk2))"
   ]
  },
  {
   "cell_type": "code",
   "execution_count": 12,
   "metadata": {},
   "outputs": [
    {
     "data": {
      "text/plain": [
       "[(0, 'elma'), (1, 'armut '), (2, 'muz'), (3, 'kirax')]"
      ]
     },
     "execution_count": 12,
     "metadata": {},
     "output_type": "execute_result"
    }
   ],
   "source": [
    " ##nesne numaralandırma\n",
    "\n",
    "\n",
    "liste = [\"elma\",\"armut \",\"muz\",\"kirax\"]\n",
    "list(enumerate(liste))"
   ]
  },
  {
   "cell_type": "code",
   "execution_count": 14,
   "metadata": {},
   "outputs": [
    {
     "data": {
      "text/plain": [
       "True"
      ]
     },
     "execution_count": 14,
     "metadata": {},
     "output_type": "execute_result"
    }
   ],
   "source": [
    "#all bir değer false ise hepsi false\n",
    "liste = [True,True,False]\n",
    "all(liste)\n",
    "#any\n",
    "any(liste)"
   ]
  },
  {
   "cell_type": "code",
   "execution_count": 15,
   "metadata": {},
   "outputs": [
    {
     "name": "stdout",
     "output_type": "stream",
     "text": [
      "hata\n"
     ]
    }
   ],
   "source": [
    "try:\n",
    "    a = int(\"abcd\")\n",
    "    print(\"program burada\")\n",
    "except:\n",
    "    print(\"hata\")\n",
    "\n",
    "    "
   ]
  },
  {
   "cell_type": "code",
   "execution_count": 16,
   "metadata": {},
   "outputs": [
    {
     "name": "stdout",
     "output_type": "stream",
     "text": [
      "Hata oluştu\n",
      "blok sonu\n"
     ]
    }
   ],
   "source": [
    "try:\n",
    "    a = int(\"abcd\")\n",
    "except ValueError:\n",
    "    print(\"Hata oluştu\")\n",
    "\n",
    "    print(\"blok sonu\")"
   ]
  },
  {
   "attachments": {},
   "cell_type": "markdown",
   "metadata": {},
   "source": [
    "try deneme yapılacak kod\n",
    "except zerodivision hata alınırsa çalışacak kod\n",
    "else hata alınmazsa çalışacak kod\n",
    "finally: kesinlikle çalışacak kod"
   ]
  },
  {
   "cell_type": "code",
   "execution_count": 17,
   "metadata": {},
   "outputs": [
    {
     "name": "stdout",
     "output_type": "stream",
     "text": [
      "hata\n"
     ]
    }
   ],
   "source": [
    "## hata fırlatma raise \n",
    "def terscevir(s):\n",
    "    if(type(s)!=str):\n",
    "        raise ValueError(\"doğru input gir\")\n",
    "    else:\n",
    "        return s[::-1]\n",
    "try:\n",
    "    print(terscevir(12))\n",
    "except ValueError:\n",
    "    print(\"hata\")\n",
    " \n",
    "\n",
    " ##deneme12"
   ]
  }
 ],
 "metadata": {
  "kernelspec": {
   "display_name": "Python 3",
   "language": "python",
   "name": "python3"
  },
  "language_info": {
   "codemirror_mode": {
    "name": "ipython",
    "version": 3
   },
   "file_extension": ".py",
   "mimetype": "text/x-python",
   "name": "python",
   "nbconvert_exporter": "python",
   "pygments_lexer": "ipython3",
   "version": "3.11.1"
  },
  "orig_nbformat": 4
 },
 "nbformat": 4,
 "nbformat_minor": 2
}
