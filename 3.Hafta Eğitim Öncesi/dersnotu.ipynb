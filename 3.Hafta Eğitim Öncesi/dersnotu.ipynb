{
 "cells": [
  {
   "attachments": {},
   "cell_type": "markdown",
   "metadata": {},
   "source": [
    "+ = atama\n",
    "+ == eşitlik kontrol true false değer\n",
    "+ != eşit değil mi ? eşit değilse true eşitse false verir\n",
    "+  <küçüktür    > büyüktür\n",
    "+ <= (açıklamaya gerek yok)\n"
   ]
  },
  {
   "cell_type": "code",
   "execution_count": 1,
   "metadata": {},
   "outputs": [
    {
     "name": "stdout",
     "output_type": "stream",
     "text": [
      "True\n"
     ]
    }
   ],
   "source": [
    "a = 9 \n",
    "\n",
    "\n",
    "print(9==9)"
   ]
  },
  {
   "attachments": {},
   "cell_type": "markdown",
   "metadata": {},
   "source": [
    "# And \n",
    "t-t true\n",
    "f-t false \n",
    "\n",
    "\n",
    "\n",
    "t-t olmadığı şartlarda false\n",
    "## Or\n",
    "f-f olmadığı şartlarda true\n",
    "\n",
    "### Not\n",
    "\n",
    "t-f \n",
    "f-t olur"
   ]
  },
  {
   "attachments": {},
   "cell_type": "markdown",
   "metadata": {},
   "source": [
    "# If \n",
    "\n",
    "## if koşul: \n",
    "\n",
    "koşul doğruysa çalışır \n",
    "\n",
    "## elif koşul: \n",
    "\n",
    "koşul 2 doğruysa çalışacak kodlar\n",
    "\n",
    "## else koşul:\n",
    " \n",
    "koşul-koşul2 yanlışsa çalışacak kodlar"
   ]
  },
  {
   "cell_type": "code",
   "execution_count": 6,
   "metadata": {},
   "outputs": [
    {
     "name": "stdout",
     "output_type": "stream",
     "text": [
      "2.sayı büyük\n"
     ]
    }
   ],
   "source": [
    "s1 = int(input(\"1.sayı gir\"))\n",
    "s2 = int(input(\"2.sayı gir\"))\n",
    "\n",
    "if s1>s2:\n",
    "    print(\"1.sayı büyük\")\n",
    "elif s1==s2:\n",
    "    print(\"eşit\")\n",
    "else :\n",
    "    print(\"2.sayı büyük\") \n",
    "    "
   ]
  },
  {
   "cell_type": "code",
   "execution_count": 7,
   "metadata": {},
   "outputs": [
    {
     "name": "stdout",
     "output_type": "stream",
     "text": [
      "21 sayısı tektir\n"
     ]
    }
   ],
   "source": [
    "sayi =  int(input(\"bir sayı girin\"))\n",
    "if sayi  % 2 == 0 :\n",
    "    print(f\"{sayi} sayısı çifttir\")\n",
    "else: \n",
    "    print(f\"{sayi} sayısı tektir\")"
   ]
  },
  {
   "attachments": {},
   "cell_type": "markdown",
   "metadata": {},
   "source": [
    "# in \n",
    "+ var mı diye kontrol eder ve true false döndürür "
   ]
  },
  {
   "cell_type": "code",
   "execution_count": 14,
   "metadata": {},
   "outputs": [
    {
     "name": "stdout",
     "output_type": "stream",
     "text": [
      "yanlış\n"
     ]
    }
   ],
   "source": [
    "x = [1,2,3,4,5]\n",
    " \n",
    "tdene = int(input(\"tahmin\"))\n",
    "\n",
    "if tdene in x :\n",
    "    print(\"doğru\")\n",
    "else :\n",
    "    print(\"yanlış\")"
   ]
  },
  {
   "attachments": {},
   "cell_type": "markdown",
   "metadata": {},
   "source": [
    "# for döngüsü\n",
    "+ bunu nasıl açıklarım bilemedim örnek vericem"
   ]
  },
  {
   "cell_type": "code",
   "execution_count": 17,
   "metadata": {},
   "outputs": [
    {
     "name": "stdout",
     "output_type": "stream",
     "text": [
      "1\n",
      "2\n",
      "3\n",
      "4\n",
      "5\n",
      "1\n",
      "4\n",
      "9\n",
      "16\n",
      "25\n"
     ]
    }
   ],
   "source": [
    "liste  = [1,2,3,4,5]\n",
    "\n",
    "for i in liste:\n",
    "    print(i)\n",
    "\n",
    "for i in liste:\n",
    "    print(i**2)"
   ]
  },
  {
   "attachments": {},
   "cell_type": "markdown",
   "metadata": {},
   "source": [
    "# while döngüsü \n",
    "+ koşul sağlandığı sürece devam eden döngülerdir \n",
    "+ bir yerde bitirecek 2. bir koşula ihtiyeç duyar"
   ]
  },
  {
   "cell_type": "code",
   "execution_count": 18,
   "metadata": {},
   "outputs": [
    {
     "name": "stdout",
     "output_type": "stream",
     "text": [
      "toplam :  1\n",
      "toplam :  3\n",
      "toplam :  6\n",
      "toplam :  10\n",
      "toplam :  15\n",
      "toplam :  21\n",
      "toplam :  28\n",
      "toplam :  36\n",
      "toplam :  45\n",
      "toplam :  55\n"
     ]
    }
   ],
   "source": [
    "sum = 0 \n",
    "i = 1\n",
    "while i < 11:\n",
    "    sum += i \n",
    "    i += 1\n",
    "    print(\"toplam : \", sum)"
   ]
  },
  {
   "attachments": {},
   "cell_type": "markdown",
   "metadata": {},
   "source": [
    "# range() fonks\n",
    "+ range(başlangıç,bitiş,artış mik.) şeklinde kullanılır\n"
   ]
  },
  {
   "cell_type": "code",
   "execution_count": 20,
   "metadata": {},
   "outputs": [
    {
     "name": "stdout",
     "output_type": "stream",
     "text": [
      "range(1, 10, 2)\n"
     ]
    }
   ],
   "source": [
    "print(range(1,10,2))"
   ]
  },
  {
   "cell_type": "code",
   "execution_count": 21,
   "metadata": {},
   "outputs": [
    {
     "name": "stdout",
     "output_type": "stream",
     "text": [
      "1\n",
      "3\n",
      "5\n",
      "7\n",
      "9\n"
     ]
    }
   ],
   "source": [
    "for x in range (1,10,2):\n",
    "    print(x)"
   ]
  },
  {
   "attachments": {},
   "cell_type": "markdown",
   "metadata": {},
   "source": [
    "# break \n",
    "+ döngü sonlandırır\n",
    "# continue\n",
    " + sonarki adıma geçirtir\n",
    " "
   ]
  },
  {
   "cell_type": "code",
   "execution_count": 24,
   "metadata": {},
   "outputs": [
    {
     "name": "stdout",
     "output_type": "stream",
     "text": [
      "0\n",
      "1\n",
      "2\n",
      "3\n",
      "4\n"
     ]
    }
   ],
   "source": [
    "i = 0 \n",
    "while i<10:\n",
    "    if(i==5):\n",
    "        break\n",
    "    else : \n",
    "        print(i)\n",
    "    i +=1\n",
    "    "
   ]
  },
  {
   "cell_type": "code",
   "execution_count": 26,
   "metadata": {},
   "outputs": [
    {
     "name": "stdout",
     "output_type": "stream",
     "text": [
      "Uygulamadan çıkmak için q bas\n",
      "yaşınız: 12\n",
      "Uygulamadan çıkmak için q bas\n",
      "yaşınız: 12\n",
      "Uygulamadan çıkmak için q bas\n",
      "yaşınız: 2\n",
      "Uygulamadan çıkmak için q bas\n",
      "yaşınız: 3\n",
      "Uygulamadan çıkmak için q bas\n"
     ]
    }
   ],
   "source": [
    "while True:\n",
    "    print(\"Uygulamadan çıkmak için q bas\")\n",
    "    yas = input(\"yaş:\")\n",
    "    if(yas == \"q\" ):\n",
    "        break\n",
    "    else:\n",
    "        print(\"yaşınız:\", yas)"
   ]
  },
  {
   "cell_type": "code",
   "execution_count": 27,
   "metadata": {},
   "outputs": [
    {
     "name": "stdout",
     "output_type": "stream",
     "text": [
      "0\n",
      "1\n",
      "2\n",
      "3\n",
      "4\n",
      "6\n"
     ]
    }
   ],
   "source": [
    "for i in range(7):\n",
    "    if i == 5:\n",
    "        continue\n",
    "    print(i)"
   ]
  },
  {
   "attachments": {},
   "cell_type": "markdown",
   "metadata": {},
   "source": [
    "# bugünlük bu kadar geçmiş olsun "
   ]
  }
 ],
 "metadata": {
  "kernelspec": {
   "display_name": "Python 3",
   "language": "python",
   "name": "python3"
  },
  "language_info": {
   "codemirror_mode": {
    "name": "ipython",
    "version": 3
   },
   "file_extension": ".py",
   "mimetype": "text/x-python",
   "name": "python",
   "nbconvert_exporter": "python",
   "pygments_lexer": "ipython3",
   "version": "3.11.1"
  },
  "orig_nbformat": 4
 },
 "nbformat": 4,
 "nbformat_minor": 2
}
