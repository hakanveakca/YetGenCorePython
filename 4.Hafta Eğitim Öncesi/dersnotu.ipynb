{
 "cells": [
  {
   "attachments": {},
   "cell_type": "markdown",
   "metadata": {},
   "source": [
    "## Listeler\n",
    "+ [] içinde tutulur\n",
    "\n",
    "### Liste Metodları\n",
    "append() listeye ekler\n",
    "remove() listeden çıkarır\n",
    "len() liste uzunluğunu verir\n",
    "clear() liste içini temizler\n",
    "pop() listedeki elemanı siler (index verilmezse sonuncuyu)\n",
    "insert() istenilen indexe eleman ekler\n",
    "reverse() listeyi ters çevirir\n",
    "sort()  listeyi küçükten büyüğe sıralar\n",
    "\n"
   ]
  },
  {
   "cell_type": "code",
   "execution_count": 8,
   "metadata": {},
   "outputs": [
    {
     "name": "stdout",
     "output_type": "stream",
     "text": [
      "['1', '2', '3', '4', '5']\n",
      "1\n",
      "['1', '3', '4', '5', '9']\n",
      "5\n"
     ]
    },
    {
     "data": {
      "text/plain": [
       "'24'"
      ]
     },
     "execution_count": 8,
     "metadata": {},
     "output_type": "execute_result"
    }
   ],
   "source": [
    "sayılar = [\"1\",\"2\",\"3\",\"4\",\"5\"]\n",
    "print(sayılar)\n",
    "print(sayılar[0])\n",
    "sayılar.append(\"9\")\n",
    "sayılar.remove(\"2\")\n",
    "print(sayılar)\n",
    "\n",
    "print(len(sayılar))\n",
    "\n",
    "sayılar.insert(1,\"24\")\n",
    "sayılar.pop(1)\n",
    "sayılar.reverse "
   ]
  },
  {
   "attachments": {},
   "cell_type": "markdown",
   "metadata": {},
   "source": [
    "# TUPLE(DEMET)\n",
    "\n",
    "+ Listelere benzer\n",
    "+ elemanları değişmez\n",
    "+ tek elemansa virgül gerekir"
   ]
  },
  {
   "cell_type": "code",
   "execution_count": 9,
   "metadata": {},
   "outputs": [
    {
     "name": "stdout",
     "output_type": "stream",
     "text": [
      "<class 'tuple'>\n"
     ]
    }
   ],
   "source": [
    "tuple1 = (2,3,4)\n",
    "print(type(tuple1))"
   ]
  },
  {
   "attachments": {},
   "cell_type": "markdown",
   "metadata": {},
   "source": [
    "## SET\n",
    "+ index sıra yoktur\n",
    "+ {} içine yazılır\n",
    "+ elemanları eşsiz\n",
    "\n",
    "### SET KOMUTLAR\n",
    "+ add() ekler\n",
    "+ remove() çıkarır\n",
    "+ clear() seti sıfırlar\n",
    "+ pop() setin son elemanını siler\n",
    "+ update() sete eleman ekler\n",
    "+ union() iki seti birleştirir\n",
    "+ intersection() iki setin kesişimini alır\n",
    "+ difference () \"\" farkını alır"
   ]
  },
  {
   "cell_type": "code",
   "execution_count": null,
   "metadata": {},
   "outputs": [],
   "source": [
    "sayılar = {\"1\",\"2\",\"3\",\"4\"}"
   ]
  },
  {
   "attachments": {},
   "cell_type": "markdown",
   "metadata": {},
   "source": [
    "### DİCTİONARY SÖZLÜK\n",
    "+ Sırasız veri tutar\n",
    "+ {} aarasında tanımlanır \n",
    "+ key : anahtar bir bilgiye ulaşmayı sağlar\n",
    "+ value= değer\n",
    "+ key-value için örnek olursak: {06:\"Ankara} 06 key Ankara value\n",
    "+ dict(\"\") şeklinde de sözlğk tanımlanabilir \n",
    "\n",
    "## METODLAR\n",
    "+ keys()sözlük keylerini verir\n",
    "+ values() \n",
    "+ items() key ve value çiftlerini verir"
   ]
  },
  {
   "cell_type": "code",
   "execution_count": 12,
   "metadata": {},
   "outputs": [
    {
     "name": "stdout",
     "output_type": "stream",
     "text": [
      "{'book': 'kitap', 'table': 'masa'}\n",
      "<class 'dict'>\n",
      "masa\n"
     ]
    }
   ],
   "source": [
    "sozluk = {\"book\" : \"kitap\", \"table\": \"masa\"}\n",
    "print(sozluk)\n",
    "print(type(sozluk))\n",
    "print(sozluk[\"table\"])\n",
    "\n",
    "#veri ekleme\n",
    "sozluk[\"pencil\"] = \"kalem\"\n",
    "#veri güncelleme\n",
    "sozluk[\"book\"]= \"kitaplar\"\n",
    "#veri silme\n",
    "del(sozluk[\"table\"])\n",
    "\n",
    "\n"
   ]
  },
  {
   "attachments": {},
   "cell_type": "markdown",
   "metadata": {},
   "source": [
    "### STRİNG METODLARI\n",
    "len() uzunluğunu verir\n",
    "upper() büyük harf yapar \n",
    "lower() küçük  harf yapar \n",
    "capitalize () ilk harfi büyük yapar\n",
    "swapcase() büyük harfi küçük, küçük harfi büyük yapar \n",
    "replace() string içindeki veriyi değiştirir\n",
    "split() parçalar\n",
    "strip() baş son boşluklarını siler \n",
    "startswith() karakterle başlama kontrol\n",
    "endswith() \"\" \"\" bitme kontrol\n",
    "find() veri indexi verir yoksa -1 döndürür\n",
    "index() \"\"\" yoksa valueerror döndürür\n",
    "isalpha() string karakterlerinin alfabetik olup olmadığına bakar\n",
    "isdigit() \"\"\"\" rakam olup olmadığına bakar"
   ]
  },
  {
   "cell_type": "code",
   "execution_count": 23,
   "metadata": {},
   "outputs": [
    {
     "name": "stdout",
     "output_type": "stream",
     "text": [
      "nem\n",
      "6\n",
      "['Türkiye', 'istanbul', 'Beşiktaş']\n"
     ]
    }
   ],
   "source": [
    "##parçalama\n",
    "\n",
    "x = \"deneme\" \n",
    "print(x[2: 5])\n",
    "print(len(x))\n",
    "x.upper() \n",
    "\n",
    "x.lower()\n",
    "\n",
    "x.capitalize()\n",
    "\n",
    "x.replace(\"e\",\"a\")\n",
    "\n",
    "info = \"Türkiye istanbul Beşiktaş\"\n",
    "print(info.split(\" \"))\n",
    "\n"
   ]
  }
 ],
 "metadata": {
  "kernelspec": {
   "display_name": "Python 3",
   "language": "python",
   "name": "python3"
  },
  "language_info": {
   "codemirror_mode": {
    "name": "ipython",
    "version": 3
   },
   "file_extension": ".py",
   "mimetype": "text/x-python",
   "name": "python",
   "nbconvert_exporter": "python",
   "pygments_lexer": "ipython3",
   "version": "3.11.1"
  },
  "orig_nbformat": 4
 },
 "nbformat": 4,
 "nbformat_minor": 2
}
