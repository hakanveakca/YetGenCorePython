{
 "cells": [
  {
   "attachments": {},
   "cell_type": "markdown",
   "metadata": {},
   "source": [
    "# Print()fonksiyonu ve İşlevi\n",
    "\n",
    "+ print fonksiyonu \"buraya\" yazdığınız metini çıktı almanızı sağlar"
   ]
  },
  {
   "cell_type": "code",
   "execution_count": 3,
   "metadata": {},
   "outputs": [
    {
     "name": "stdout",
     "output_type": "stream",
     "text": [
      "Hello World\n"
     ]
    }
   ],
   "source": [
    "print(\"Hello World\")"
   ]
  },
  {
   "attachments": {},
   "cell_type": "markdown",
   "metadata": {},
   "source": [
    "## Print Fonksiyonu Parametreleri\n",
    "+ sep \n",
    "\n",
    "Ayıraç görevi görür \n",
    "Örnek :     Hello*World    sep=+"
   ]
  },
  {
   "cell_type": "code",
   "execution_count": 5,
   "metadata": {},
   "outputs": [
    {
     "name": "stdout",
     "output_type": "stream",
     "text": [
      "Hello,world\n"
     ]
    }
   ],
   "source": [
    "print(\"Hello\", \"world\", sep=\",\")"
   ]
  },
  {
   "attachments": {},
   "cell_type": "markdown",
   "metadata": {},
   "source": [
    "+ end \n",
    "\n",
    "Parametrenin sonuna ne geleceğini bizi söyler\n"
   ]
  },
  {
   "cell_type": "code",
   "execution_count": 6,
   "metadata": {},
   "outputs": [
    {
     "name": "stdout",
     "output_type": "stream",
     "text": [
      "Hello World+"
     ]
    }
   ],
   "source": [
    "print(\"Hello World\", end=\"+\")"
   ]
  },
  {
   "attachments": {},
   "cell_type": "markdown",
   "metadata": {},
   "source": [
    "+ Yorum satırları\n",
    "\n",
    "kodun sonuna # ekleyerek yapılır\n",
    "not bırakmak için kullanılır \n",
    "\n",
    "\n",
    "'''\n",
    "bu araya da \n",
    "çoklu yorum satırı \n",
    "bırakılabilir\n",
    " \n",
    "'''"
   ]
  },
  {
   "cell_type": "code",
   "execution_count": 7,
   "metadata": {},
   "outputs": [
    {
     "name": "stdout",
     "output_type": "stream",
     "text": [
      "Hello World\n"
     ]
    }
   ],
   "source": [
    "print(\"Hello World\") # yeter artık sıkıldım "
   ]
  },
  {
   "attachments": {},
   "cell_type": "markdown",
   "metadata": {},
   "source": [
    "# Değişken Tanımlama Kuralları\n",
    "\n",
    "değişken ismi = \"Atanacak değer\" olarak tanımlanır "
   ]
  },
  {
   "cell_type": "code",
   "execution_count": 9,
   "metadata": {},
   "outputs": [
    {
     "name": "stdout",
     "output_type": "stream",
     "text": [
      "python\n"
     ]
    }
   ],
   "source": [
    "kod = \"python\"\n",
    "\n",
    "print(kod)"
   ]
  },
  {
   "attachments": {},
   "cell_type": "markdown",
   "metadata": {},
   "source": [
    "## Değişken tanımlama kuralları \n",
    "\n",
    "+ harf veya alt çizgi ile başlamalı \n",
    "\n",
    "1deneme = deneme  X\n",
    "\n",
    "+ boşluk kullanılmaz \n",
    "\n",
    "1 deneme = deneme X\n",
    "\n",
    "+ türkçe karakter kullanılmaz\n",
    "\n",
    "değişken = deneme X\n",
    "\n",
    "+ python anahtar kelimeleri kullanılmaz\n",
    "\n",
    "deneme = else,from,global vs. X "
   ]
  },
  {
   "attachments": {},
   "cell_type": "markdown",
   "metadata": {},
   "source": [
    "### Type() komutu\n",
    "\n",
    "+ Değişken türünü bize verir"
   ]
  },
  {
   "cell_type": "code",
   "execution_count": 12,
   "metadata": {},
   "outputs": [
    {
     "data": {
      "text/plain": [
       "int"
      ]
     },
     "execution_count": 12,
     "metadata": {},
     "output_type": "execute_result"
    }
   ],
   "source": [
    "type(1)"
   ]
  },
  {
   "cell_type": "code",
   "execution_count": 13,
   "metadata": {},
   "outputs": [
    {
     "data": {
      "text/plain": [
       "float"
      ]
     },
     "execution_count": 13,
     "metadata": {},
     "output_type": "execute_result"
    }
   ],
   "source": [
    "type(1.2)"
   ]
  },
  {
   "cell_type": "code",
   "execution_count": 14,
   "metadata": {},
   "outputs": [
    {
     "data": {
      "text/plain": [
       "bool"
      ]
     },
     "execution_count": 14,
     "metadata": {},
     "output_type": "execute_result"
    }
   ],
   "source": [
    "type(True)"
   ]
  },
  {
   "attachments": {},
   "cell_type": "markdown",
   "metadata": {},
   "source": [
    "# Matematiksel İşlemler\n",
    "\n",
    "+ Toplama +\n",
    "+ Çıkarma -\n",
    "+ Çarpma * \n",
    "+ Bölme / \n",
    "+ Üs alma **\n",
    "+ Mod alma %\n",
    "+ Tam bölme //"
   ]
  },
  {
   "attachments": {},
   "cell_type": "markdown",
   "metadata": {},
   "source": [
    "# İnput Kullanımı \n",
    "\n",
    "+ Veri girişi almayı sağlar\n",
    "+ input veriye string gibi davranır sayı alacaksan int yada float kullan"
   ]
  },
  {
   "cell_type": "code",
   "execution_count": 2,
   "metadata": {},
   "outputs": [
    {
     "name": "stdout",
     "output_type": "stream",
     "text": [
      "Merhaba hakan\n"
     ]
    }
   ],
   "source": [
    "isim = input(\"isim giriniz :*\")\n",
    "print(\"Merhaba\" ,  isim )\n"
   ]
  },
  {
   "cell_type": "code",
   "execution_count": 4,
   "metadata": {},
   "outputs": [
    {
     "name": "stdout",
     "output_type": "stream",
     "text": [
      "3\n"
     ]
    }
   ],
   "source": [
    "sayi1 = int(input(\"1.sayıyı gir\"))\n",
    "sayi2 = int(input(\"2.sayıyı gir\"))\n",
    "print(sayi1 + sayi2)"
   ]
  },
  {
   "attachments": {},
   "cell_type": "markdown",
   "metadata": {},
   "source": [
    "+ Bu haftanın kazanımları bu kadardı"
   ]
  }
 ],
 "metadata": {
  "kernelspec": {
   "display_name": "Python 3",
   "language": "python",
   "name": "python3"
  },
  "language_info": {
   "codemirror_mode": {
    "name": "ipython",
    "version": 3
   },
   "file_extension": ".py",
   "mimetype": "text/x-python",
   "name": "python",
   "nbconvert_exporter": "python",
   "pygments_lexer": "ipython3",
   "version": "3.11.1"
  },
  "orig_nbformat": 4,
  "vscode": {
   "interpreter": {
    "hash": "622d87dd430be0118290a823b053536ea78ab402c58bbb7c6d10520970bfaec0"
   }
  }
 },
 "nbformat": 4,
 "nbformat_minor": 2
}
