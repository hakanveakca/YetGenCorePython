{
 "cells": [
  {
   "attachments": {},
   "cell_type": "markdown",
   "metadata": {},
   "source": [
    "## list comperansion\n",
    "\n",
    "+ klasik yöntem \n",
    "liste=[1,2,3,4,5,6]\n",
    "yeniliste=[0]\n",
    "\n",
    "for i in liste: \n",
    "     yeniliste.append(i*i)\n",
    "\n",
    "+ list comperansion\n",
    "\n",
    "liste1=[1,2,3,4,5,6,7,8,9,]\n",
    "yeniliste= [i*i for i in liste]\n",
    "\n"
   ]
  },
  {
   "cell_type": "code",
   "execution_count": 1,
   "metadata": {},
   "outputs": [
    {
     "name": "stdout",
     "output_type": "stream",
     "text": [
      "[1, 2, 3, 4, 5, 6, 7, 8, 9, 10, 11, 12, 13, 14, 15]\n"
     ]
    }
   ],
   "source": [
    "liste=[[1,2,3,],[4,5,6,7,8],[9,10,11,12,13,14,15]]\n",
    "liste2= [x for i in liste for x in i ]\n",
    "print (liste2)"
   ]
  },
  {
   "attachments": {},
   "cell_type": "markdown",
   "metadata": {},
   "source": [
    "## Fonksiyonlar\n",
    "\n",
    "+ def + komutun ismi+ (opsiyon):\n",
    "      kullanılacak fonksiyon \n",
    "\n",
    "kullanmak için = komut ismi () "
   ]
  },
  {
   "cell_type": "code",
   "execution_count": 2,
   "metadata": {},
   "outputs": [
    {
     "name": "stdout",
     "output_type": "stream",
     "text": [
      "merhaba\n"
     ]
    }
   ],
   "source": [
    "def selamla():\n",
    "    print(\"merhaba\")\n",
    "\n",
    "selamla()"
   ]
  },
  {
   "attachments": {},
   "cell_type": "markdown",
   "metadata": {},
   "source": [
    "## ARGÜMAN:\n"
   ]
  },
  {
   "cell_type": "code",
   "execution_count": 4,
   "metadata": {},
   "outputs": [
    {
     "name": "stdout",
     "output_type": "stream",
     "text": [
      "Merhaba user\n",
      "Merhaba guest\n"
     ]
    }
   ],
   "source": [
    "def hosgeldin(name = \"user\"):\n",
    "    print(\"Merhaba\", name)\n",
    "hosgeldin()\n",
    "hosgeldin(\"guest\")"
   ]
  },
  {
   "cell_type": "code",
   "execution_count": 7,
   "metadata": {},
   "outputs": [
    {
     "name": "stdout",
     "output_type": "stream",
     "text": [
      "6\n"
     ]
    }
   ],
   "source": [
    "def topla(sayi1,sayi2,sayi3):\n",
    "    toplam = sayi1 + sayi2 + sayi3\n",
    "    print(toplam)\n",
    "\n",
    "topla(1,2,3)"
   ]
  },
  {
   "attachments": {},
   "cell_type": "markdown",
   "metadata": {},
   "source": [
    "## Return \n",
    "+ kod tamamlandıktan sonra kalan değeri döndürür \n",
    "+ return sonrası kodlar yürütülmez\n"
   ]
  },
  {
   "cell_type": "code",
   "execution_count": 9,
   "metadata": {},
   "outputs": [
    {
     "name": "stdout",
     "output_type": "stream",
     "text": [
      "3.0\n"
     ]
    }
   ],
   "source": [
    "def dikucgen(a,b):\n",
    "    return(a*b)/2\n",
    "alan = dikucgen(2,3)\n",
    "print(alan)"
   ]
  },
  {
   "attachments": {},
   "cell_type": "markdown",
   "metadata": {},
   "source": [
    "## ARGS \n",
    "+ Sınırsız sayıda parametreli fonksiyon oluşturmak için parametrenizin önüne tek yıldız koyabiliriz"
   ]
  },
  {
   "cell_type": "code",
   "execution_count": 10,
   "metadata": {},
   "outputs": [
    {
     "name": "stdout",
     "output_type": "stream",
     "text": [
      "(4,)\n",
      "(1, 2, 3, 4, 5, 6, 7, 8, 9)\n"
     ]
    }
   ],
   "source": [
    "def sayilar(*x):\n",
    "    print(x)\n",
    "\n",
    "sayilar(4)\n",
    "\n",
    "sayilar(1,2,3,4,5,6,7,8,9)"
   ]
  },
  {
   "attachments": {},
   "cell_type": "markdown",
   "metadata": {},
   "source": [
    "## KWARGS \n",
    "\n",
    "+ çift yıldızlı (**)parametrelerin tek yıldızlıdan en önemli farkı fonksiyon çağırıken anahtar değer ilişkisiyle çağrılması "
   ]
  },
  {
   "cell_type": "code",
   "execution_count": 11,
   "metadata": {},
   "outputs": [
    {
     "name": "stdout",
     "output_type": "stream",
     "text": [
      "{'adi': 'Hakan', 'soyadı': 'Akça', 'yas': '20'}\n"
     ]
    }
   ],
   "source": [
    "def kimlikg(**kimlik):\n",
    "    print(kimlik)\n",
    "\n",
    "kimlikg(adi=\"Hakan\",soyadı=\"Akça\",yas=\"20\")"
   ]
  },
  {
   "attachments": {},
   "cell_type": "markdown",
   "metadata": {},
   "source": [
    "## GLobal değişkenler \n",
    "\n",
    "\n",
    "+ fonksiyon dışı tanımlanan değişenler \n",
    "(her yerde kullanırsın )\n",
    "+ yerel değişken \n",
    "(sadece fonksiyon içi )\n"
   ]
  },
  {
   "cell_type": "code",
   "execution_count": 12,
   "metadata": {},
   "outputs": [
    {
     "ename": "NameError",
     "evalue": "name 'x' is not defined",
     "output_type": "error",
     "traceback": [
      "\u001b[1;31m---------------------------------------------------------------------------\u001b[0m",
      "\u001b[1;31mNameError\u001b[0m                                 Traceback (most recent call last)",
      "Cell \u001b[1;32mIn[12], line 5\u001b[0m\n\u001b[0;32m      3\u001b[0m     \u001b[39mprint\u001b[39m(x)\n\u001b[0;32m      4\u001b[0m yazdır2\n\u001b[1;32m----> 5\u001b[0m \u001b[39mprint\u001b[39m(x)\n\u001b[0;32m      9\u001b[0m \u001b[39mdef\u001b[39;00m \u001b[39myazdır3\u001b[39m():\n\u001b[0;32m     10\u001b[0m     \u001b[39mglobal\u001b[39;00m x \n",
      "\u001b[1;31mNameError\u001b[0m: name 'x' is not defined"
     ]
    }
   ],
   "source": [
    "##yanlis\n",
    "def yazdır2():\n",
    "    y = 5 \n",
    "    print(y)\n",
    "yazdır2\n",
    "print(y)\n",
    "\n",
    "##dogru\n",
    "\n",
    "def yazdır3():\n",
    "    global x \n",
    "    x = 5 \n",
    "    print(x)\n",
    "yazdır3(x)\n",
    "print(x)"
   ]
  },
  {
   "attachments": {},
   "cell_type": "markdown",
   "metadata": {},
   "source": [
    "## LAMBDA GÖSTERİMİ \n",
    "\n",
    "+ isimsiz tanımlı fonksiyon\n",
    "\n",
    "fonksadi = lambda parametreler : yapilacakislem"
   ]
  },
  {
   "cell_type": "code",
   "execution_count": 14,
   "metadata": {},
   "outputs": [
    {
     "data": {
      "text/plain": [
       "3.0"
      ]
     },
     "execution_count": 14,
     "metadata": {},
     "output_type": "execute_result"
    }
   ],
   "source": [
    "dikucal = lambda a,b,:a*b/2\n",
    "dikucal(2,3)"
   ]
  }
 ],
 "metadata": {
  "kernelspec": {
   "display_name": "Python 3",
   "language": "python",
   "name": "python3"
  },
  "language_info": {
   "codemirror_mode": {
    "name": "ipython",
    "version": 3
   },
   "file_extension": ".py",
   "mimetype": "text/x-python",
   "name": "python",
   "nbconvert_exporter": "python",
   "pygments_lexer": "ipython3",
   "version": "3.11.1"
  },
  "orig_nbformat": 4
 },
 "nbformat": 4,
 "nbformat_minor": 2
}
